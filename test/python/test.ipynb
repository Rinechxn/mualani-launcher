{
 "cells": [
  {
   "cell_type": "code",
   "execution_count": null,
   "metadata": {},
   "outputs": [],
   "source": [
    "import zipfile\n",
    "import os\n",
    "\n",
    "def unzip_file(zip_file_path, extract_to_path):\n",
    "    \"\"\"\n",
    "    Unzip a file to a specified directory.\n",
    "    \n",
    "    Args:\n",
    "    zip_file_path (str): Path to the zip file\n",
    "    extract_to_path (str): Path to extract the contents to\n",
    "    \"\"\"\n",
    "    try:\n",
    "        with zipfile.ZipFile(zip_file_path, 'r') as zip_ref:\n",
    "            zip_ref.extractall(extract_to_path)\n",
    "        print(f\"Successfully extracted {zip_file_path} to {extract_to_path}\")\n",
    "    except zipfile.BadZipFile:\n",
    "        print(f\"Error: {zip_file_path} is not a valid zip file.\")\n",
    "    except PermissionError:\n",
    "        print(f\"Error: Permission denied. Unable to extract to {extract_to_path}\")\n",
    "    except Exception as e:\n",
    "        print(f\"An unexpected error occurred: {str(e)}\")\n",
    "\n",
    "# Usage example\n",
    "zip_file = 'path/to/your/file.zip'\n",
    "extract_path = 'path/to/extract/folder'\n",
    "\n",
    "unzip_file(zip_file, extract_path)\n"
   ]
  }
 ],
 "metadata": {
  "language_info": {
   "name": "python"
  }
 },
 "nbformat": 4,
 "nbformat_minor": 2
}
